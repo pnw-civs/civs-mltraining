{
 "cells": [
  {
   "attachments": {},
   "cell_type": "markdown",
   "metadata": {},
   "source": [
    "## Notebook for data clean up\n",
    "* Remove bad thermocouple data\n",
    "* Remove down periods\n",
    "* Remove invalid entries like NaN"
   ]
  },
  {
   "cell_type": "code",
   "execution_count": null,
   "metadata": {},
   "outputs": [],
   "source": [
    "import pandas as pd # dataframe manipulation\n",
    "import numpy as np # numerical libraries\n",
    "import plotly.graph_objects as go  # for plotting"
   ]
  },
  {
   "cell_type": "code",
   "execution_count": null,
   "metadata": {},
   "outputs": [],
   "source": [
    "# read process data from hdf5 file\n",
    "df = pd.read_hdf('../data/process-data.h5')\n",
    "\n",
    "# examine the columns and first five rows\n",
    "df.head()"
   ]
  },
  {
   "cell_type": "code",
   "execution_count": null,
   "metadata": {},
   "outputs": [],
   "source": [
    "# examine statistics of thermocouple data\n",
    "df[['tc1','tc2','tc3','tc4','tc4']].describe()"
   ]
  },
  {
   "cell_type": "code",
   "execution_count": null,
   "metadata": {},
   "outputs": [],
   "source": [
    "# get the shape of the raw dataframe\n",
    "print('Before filtering:', df.shape)\n",
    "\n",
    "# create a new dataframe using only rows where all thermocouples are valid\n",
    "fildf = df.query('tc1 < 5000 and tc2 < 5000 and tc3 < 5000 \\\n",
    "    and tc4 < 5000 and tcf < 5000').reset_index(drop=True)\n",
    "\n",
    "# get the new dataframe shape\n",
    "print('After filtering:', fildf.shape)"
   ]
  },
  {
   "cell_type": "code",
   "execution_count": null,
   "metadata": {},
   "outputs": [],
   "source": [
    "# Complete filtering and data cleanup tasks"
   ]
  },
  {
   "cell_type": "code",
   "execution_count": null,
   "metadata": {},
   "outputs": [],
   "source": [
    "# write filtered dataframe to hdf5 file\n",
    "fildf.to_hdf('../data/clean-data.h5',key='df',mode='w')"
   ]
  }
 ],
 "metadata": {
  "kernelspec": {
   "display_name": "Python 3",
   "language": "python",
   "name": "python3"
  },
  "language_info": {
   "codemirror_mode": {
    "name": "ipython",
    "version": 3
   },
   "file_extension": ".py",
   "mimetype": "text/x-python",
   "name": "python",
   "nbconvert_exporter": "python",
   "pygments_lexer": "ipython3",
   "version": "3.10.10"
  },
  "orig_nbformat": 4,
  "vscode": {
   "interpreter": {
    "hash": "e7370f93d1d0cde622a1f8e1c04877d8463912d04d973331ad4851f04de6915a"
   }
  }
 },
 "nbformat": 4,
 "nbformat_minor": 2
}
