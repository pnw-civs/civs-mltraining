{
 "cells": [
  {
   "attachments": {},
   "cell_type": "markdown",
   "metadata": {},
   "source": [
    "# Prediction Using Linear Regression\n",
    "- Set up linear regression model to predict flue NOx levels\n",
    "- Examine accuracy of model\n",
    "- Set up models for tcf and f.co and examine accuracy"
   ]
  },
  {
   "cell_type": "code",
   "execution_count": null,
   "metadata": {},
   "outputs": [],
   "source": [
    "import pandas as pd\n",
    "import numpy as np\n",
    "from sklearn.model_selection import train_test_split\n",
    "from sklearn.linear_model import LinearRegression\n",
    "import plotly.graph_objects as go"
   ]
  },
  {
   "cell_type": "code",
   "execution_count": null,
   "metadata": {},
   "outputs": [],
   "source": [
    "# read cleaned data\n",
    "df = pd.read_hdf('../data/clean-data.h5')\n",
    "df.head()"
   ]
  },
  {
   "cell_type": "code",
   "execution_count": null,
   "metadata": {},
   "outputs": [],
   "source": [
    "# list of input features\n",
    "inputs = ['air.flow','air.temp','air.frac','fuel.flow']\n",
    "\n",
    "# list of output features\n",
    "columns = ['tc1','tc2','tc3','tc4','tcf','f.h2o','f.co2','f.o2','f.ch4','f.co','f.nox']\n",
    "\n",
    "# selected output feature\n",
    "output = ['f.nox']"
   ]
  },
  {
   "cell_type": "code",
   "execution_count": null,
   "metadata": {},
   "outputs": [],
   "source": [
    "# split the data into training (80%) and testing (20%) sets\n",
    "X_train, X_test, y_train, y_test = train_test_split(df[inputs], df[outputs], test_size=0.2,random_state=42)\n",
    "\n",
    "# initiate the linear regression model\n",
    "model = LinearRegression()\n",
    "\n",
    "# fit the linear model using the input data\n",
    "model.fit(X_train,y_train)"
   ]
  },
  {
   "cell_type": "code",
   "execution_count": null,
   "metadata": {},
   "outputs": [],
   "source": [
    "# determine r2 score for model\n",
    "score = model.score(X_test,y_test)\n",
    "display('R2: ' + str(score))\n",
    "\n",
    "# predict output for test data\n",
    "predictions = model.predict(X_test)\n",
    "\n",
    "# create dataframe with prediction results\n",
    "predictionsDF = pd.DataFrame(predictions,columns=output)\n",
    "predictionsDF.head()"
   ]
  },
  {
   "cell_type": "code",
   "execution_count": null,
   "metadata": {},
   "outputs": [],
   "source": [
    "# Plot parity of actual versus predicted values\n",
    "parity = go.Figure()\n",
    "\n",
    "# add test v. predicted markers\n",
    "parity.add_trace(\n",
    "    go.Scatter(\n",
    "        x=y_test['f.nox'],\n",
    "        y=predictionsDF['f.nox'],\n",
    "        mode='markers',\n",
    "        name='results'\n",
    "    )\n",
    ")\n",
    "\n",
    "# add parity line\n",
    "parity.add_trace(\n",
    "    go.Scatter(\n",
    "        x=y_test['f.nox'],\n",
    "        y=y_test['f.nox'],\n",
    "        name='parity'\n",
    "    )\n",
    ")\n",
    "\n",
    "# update layout and title\n",
    "parity.update_layout(height=800,width=800,title=\"NOx Actual vs. Predicted\")\n",
    "\n",
    "#display figure\n",
    "parity.show()"
   ]
  }
 ],
 "metadata": {
  "kernelspec": {
   "display_name": "Python 3",
   "language": "python",
   "name": "python3"
  },
  "language_info": {
   "codemirror_mode": {
    "name": "ipython",
    "version": 3
   },
   "file_extension": ".py",
   "mimetype": "text/x-python",
   "name": "python",
   "nbconvert_exporter": "python",
   "pygments_lexer": "ipython3",
   "version": "3.10.10"
  },
  "orig_nbformat": 4
 },
 "nbformat": 4,
 "nbformat_minor": 2
}
